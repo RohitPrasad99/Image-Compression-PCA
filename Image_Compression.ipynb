{
  "nbformat": 4,
  "nbformat_minor": 0,
  "metadata": {
    "colab": {
      "name": "Image Compression",
      "provenance": [],
      "collapsed_sections": [],
      "authorship_tag": "ABX9TyP60VvhQbtETY6tuqrikG4/"
    },
    "kernelspec": {
      "name": "python3",
      "display_name": "Python 3"
    },
    "language_info": {
      "name": "python"
    }
  },
  "cells": [
    {
      "cell_type": "code",
      "execution_count": 1,
      "metadata": {
        "colab": {
          "base_uri": "https://localhost:8080/",
          "height": 35
        },
        "id": "5Nx59qcJIcxL",
        "outputId": "196151df-7a8c-4a4b-8418-e933ddd38cdd"
      },
      "outputs": [
        {
          "output_type": "execute_result",
          "data": {
            "application/vnd.google.colaboratory.intrinsic+json": {
              "type": "string"
            },
            "text/plain": [
              "'2.7.0'"
            ]
          },
          "metadata": {},
          "execution_count": 1
        }
      ],
      "source": [
        "import tensorflow as tf\n",
        "import matplotlib.pyplot as plt\n",
        "import numpy as np\n",
        "tf.__version__"
      ]
    },
    {
      "cell_type": "code",
      "source": [
        "(x_train, y_train), (x_test, y_test) = tf.keras.datasets.mnist.load_data()\n",
        "dim = x_train.shape[1:]"
      ],
      "metadata": {
        "colab": {
          "base_uri": "https://localhost:8080/"
        },
        "id": "uZI8e5m2IjHd",
        "outputId": "e04a63e9-d0c1-400c-dfb8-b55c1b76c19b"
      },
      "execution_count": 2,
      "outputs": [
        {
          "output_type": "stream",
          "name": "stdout",
          "text": [
            "Downloading data from https://storage.googleapis.com/tensorflow/tf-keras-datasets/mnist.npz\n",
            "11493376/11490434 [==============================] - 0s 0us/step\n",
            "11501568/11490434 [==============================] - 0s 0us/step\n"
          ]
        }
      ]
    },
    {
      "cell_type": "code",
      "source": [
        "# seeing an image\n",
        "plt.imshow(x_train[0],cmap = 'gray')"
      ],
      "metadata": {
        "colab": {
          "base_uri": "https://localhost:8080/",
          "height": 282
        },
        "id": "1LtpO6CbPL5I",
        "outputId": "f37cf2d7-aba6-4a93-afc7-a542b76abf6e"
      },
      "execution_count": 3,
      "outputs": [
        {
          "output_type": "execute_result",
          "data": {
            "text/plain": [
              "<matplotlib.image.AxesImage at 0x7f3ed95bf290>"
            ]
          },
          "metadata": {},
          "execution_count": 3
        },
        {
          "output_type": "display_data",
          "data": {
            "image/png": "[encoded data removed]",
            "text/plain": [
              "<Figure size 432x288 with 1 Axes>"
            ]
          },
          "metadata": {
            "needs_background": "light"
          }
        }
      ]
    },
    {
      "cell_type": "code",
      "source": [
        "#  Convert each image from dim (28 x 28) to  (784 x 1) feature vector\n",
        "def convert1D(x_data):\n",
        "  x_data = np.squeeze(np.reshape(x_data,(dim[0]*dim[1],1)))\n",
        "  return x_data\n",
        "convert1D(x_train[0]).shape"
      ],
      "metadata": {
        "colab": {
          "base_uri": "https://localhost:8080/"
        },
        "id": "bb2J2N3OOZvN",
        "outputId": "49c0b10c-e58c-4c75-dcad-8c6a41807411"
      },
      "execution_count": 4,
      "outputs": [
        {
          "output_type": "execute_result",
          "data": {
            "text/plain": [
              "(784,)"
            ]
          },
          "metadata": {},
          "execution_count": 4
        }
      ]
    },
    {
      "cell_type": "code",
      "source": [
        "X = []\n",
        "for im in x_train:\n",
        "  X.append(convert1D(im))\n",
        "X = np.array(X)\n",
        "X.shape"
      ],
      "metadata": {
        "colab": {
          "base_uri": "https://localhost:8080/"
        },
        "id": "C2CFeL7gSzeF",
        "outputId": "8e9dcdf5-fc9b-40e8-86ce-b21c448fc6c6"
      },
      "execution_count": 5,
      "outputs": [
        {
          "output_type": "execute_result",
          "data": {
            "text/plain": [
              "(60000, 784)"
            ]
          },
          "metadata": {},
          "execution_count": 5
        }
      ]
    },
    {
      "cell_type": "code",
      "source": [
        "#  Finding mean of feature vector along each column\n",
        "X_bar = np.mean(X,axis = 0)\n",
        "X_bar.shape"
      ],
      "metadata": {
        "colab": {
          "base_uri": "https://localhost:8080/"
        },
        "id": "_71oRpnUTWC6",
        "outputId": "b3cd4e18-71dd-49b5-f9fc-8014b44e8aa4"
      },
      "execution_count": 8,
      "outputs": [
        {
          "output_type": "execute_result",
          "data": {
            "text/plain": [
              "(784,)"
            ]
          },
          "metadata": {},
          "execution_count": 8
        }
      ]
    },
    {
      "cell_type": "code",
      "source": [
        "# Visualising mean of feature vectors\n",
        "plt.imshow(np.reshape(X_bar,(28,28)),cmap = 'gray')"
      ],
      "metadata": {
        "colab": {
          "base_uri": "https://localhost:8080/",
          "height": 282
        },
        "id": "RMCGMiEwViR-",
        "outputId": "6b26f5f7-b424-4da9-c106-ace1a16ef48a"
      },
      "execution_count": 9,
      "outputs": [
        {
          "output_type": "execute_result",
          "data": {
            "text/plain": [
              "<matplotlib.image.AxesImage at 0x7f3ed8c35b90>"
            ]
          },
          "metadata": {},
          "execution_count": 9
        },
        {
          "output_type": "display_data",
          "data": {
            "image/png": "[encoded data removed]",
            "text/plain": [
              "<Figure size 432x288 with 1 Axes>"
            ]
          },
          "metadata": {
            "needs_background": "light"
          }
        }
      ]
    },
    {
      "cell_type": "code",
      "source": [
        "# Subtracting mean from each feature vector\n",
        "X_norm = X - X_bar\n",
        "X_norm.shape"
      ],
      "metadata": {
        "colab": {
          "base_uri": "https://localhost:8080/"
        },
        "id": "MghYUGlhUN2j",
        "outputId": "6ebd5bd8-e99e-4f21-eced-7b66b2605ee4"
      },
      "execution_count": 10,
      "outputs": [
        {
          "output_type": "execute_result",
          "data": {
            "text/plain": [
              "(60000, 784)"
            ]
          },
          "metadata": {},
          "execution_count": 10
        }
      ]
    },
    {
      "cell_type": "code",
      "source": [
        "plt.imshow(np.reshape(X_norm[0],(28,28)))"
      ],
      "metadata": {
        "colab": {
          "base_uri": "https://localhost:8080/",
          "height": 282
        },
        "id": "KA1ONwMmRGOu",
        "outputId": "fa91d6ca-f18e-464f-d9fc-222936414375"
      },
      "execution_count": 11,
      "outputs": [
        {
          "output_type": "execute_result",
          "data": {
            "text/plain": [
              "<matplotlib.image.AxesImage at 0x7f3ed9072790>"
            ]
          },
          "metadata": {},
          "execution_count": 11
        },
        {
          "output_type": "display_data",
          "data": {
            "image/png": "[encoded data removed]",
            "text/plain": [
              "<Figure size 432x288 with 1 Axes>"
            ]
          },
          "metadata": {
            "needs_background": "light"
          }
        }
      ]
    },
    {
      "cell_type": "code",
      "source": [
        "# Calculating covariance matrix of X_norm\n",
        "N = X_norm.shape[0]\n",
        "S_x = 1/N * (X_norm.T @ X_norm)\n",
        "S_x.shape"
      ],
      "metadata": {
        "colab": {
          "base_uri": "https://localhost:8080/"
        },
        "id": "PyMwBGqkU6O4",
        "outputId": "e7d59c1f-e726-4d94-edca-ed9f408c1032"
      },
      "execution_count": 12,
      "outputs": [
        {
          "output_type": "execute_result",
          "data": {
            "text/plain": [
              "(784, 784)"
            ]
          },
          "metadata": {},
          "execution_count": 12
        }
      ]
    },
    {
      "cell_type": "code",
      "source": [
        "# Compute eigen value and eigen vectors\n",
        "eig_val ,eig_vec = np.linalg.eigh(S_x)\n",
        "eig_val.shape,eig_vec.shape"
      ],
      "metadata": {
        "colab": {
          "base_uri": "https://localhost:8080/"
        },
        "id": "63fxvjhOWaP2",
        "outputId": "84938416-f1f1-4edb-e49d-0129588ef3dc"
      },
      "execution_count": 13,
      "outputs": [
        {
          "output_type": "execute_result",
          "data": {
            "text/plain": [
              "((784,), (784, 784))"
            ]
          },
          "metadata": {},
          "execution_count": 13
        }
      ]
    },
    {
      "cell_type": "code",
      "source": [
        "# Compute Residual error to find best value for d\n",
        "data_range = np.arange(784)\n",
        "sum_var = np.sum(eig_val)\n",
        "print(sum_var)\n",
        "\n",
        "plt.figure(figsize=(8, 6), dpi=80)\n",
        "plt.subplot(1,2,1)\n",
        "plt.xlim((0,eig_val.shape[0]))\n",
        "plt.ylim((0,eig_val.max()))\n",
        "plt.xlabel('N')\n",
        "plt.ylabel('eig_val')\n",
        "plt.plot(data_range,eig_val[::-1])\n",
        "\n",
        "\n",
        "res_error = []\n",
        "t = 0\n",
        "n = int(eig_val.shape[0])\n",
        "# print(eig_val[i])\n",
        "for a in range(n-1,-1,-1):\n",
        "  t += eig_val[a]\n",
        "  res_error.append(sum_var - t)\n",
        "plt.subplot(1,2,2)\n",
        "plt.xlim((0,eig_val.shape[0]))\n",
        "plt.ylim((0,max(res_error)))\n",
        "plt.xlabel('N')\n",
        "plt.ylabel('residual error')\n",
        "plt.plot(data_range,res_error)\n",
        "\n"
      ],
      "metadata": {
        "colab": {
          "base_uri": "https://localhost:8080/",
          "height": 473
        },
        "id": "YS1nxzEjXBIV",
        "outputId": "3947d682-b795-452d-f98a-46207371b2d4"
      },
      "execution_count": 14,
      "outputs": [
        {
          "output_type": "stream",
          "name": "stdout",
          "text": [
            "3428445.4330706233\n"
          ]
        },
        {
          "output_type": "execute_result",
          "data": {
            "text/plain": [
              "[<matplotlib.lines.Line2D at 0x7f3ed8fb25d0>]"
            ]
          },
          "metadata": {},
          "execution_count": 14
        },
        {
          "output_type": "display_data",
          "data": {
            "image/png": "[encoded data removed]",
            "text/plain": [
              "<Figure size 640x480 with 2 Axes>"
            ]
          },
          "metadata": {
            "needs_background": "light"
          }
        }
      ]
    },
    {
      "cell_type": "markdown",
      "source": [
        "### from above graph , we see that best value for `d` is `200`."
      ],
      "metadata": {
        "id": "G_1GH1oFeasu"
      }
    },
    {
      "cell_type": "code",
      "source": [
        "def find_eigen(d,eig_val= eig_val,eig_vec = eig_vec):\n",
        "  eig_vals = []\n",
        "  eig_vecs = []\n",
        "  for i in range(eig_val.shape[0]-1,eig_val.shape[0]-d-1,-1):\n",
        "    eig_vals.append(eig_val[i])\n",
        "    eig_vecs.append(eig_vec[:,i])\n",
        "  # len(eig_vals),eig_vals[:10],len(eig_vecs),eig_vec[0] == eig_vec[783]\n",
        "  eig_vals = np.array(eig_vals)\n",
        "  eig_vecs = np.array(eig_vecs)\n",
        "  return eig_vals,eig_vecs"
      ],
      "metadata": {
        "id": "XR7jqOmOwHIq"
      },
      "execution_count": 48,
      "outputs": []
    },
    {
      "cell_type": "code",
      "source": [
        "# taking only 1st d eigen vectors which \n",
        "d = 200\n",
        "\n",
        "eig_vals,eig_vecs = find_eigen(d)\n",
        "eig_vals.shape,eig_vecs.shape"
      ],
      "metadata": {
        "colab": {
          "base_uri": "https://localhost:8080/"
        },
        "id": "sG4mtG11YQRq",
        "outputId": "00bc876a-3ed2-434d-b0fb-7fbb10b03c2c"
      },
      "execution_count": 49,
      "outputs": [
        {
          "output_type": "execute_result",
          "data": {
            "text/plain": [
              "((200,), (200, 784))"
            ]
          },
          "metadata": {},
          "execution_count": 49
        }
      ]
    },
    {
      "cell_type": "code",
      "source": [
        "# transformation matrix U\n",
        "U = eig_vecs.T\n",
        "U.shape"
      ],
      "metadata": {
        "colab": {
          "base_uri": "https://localhost:8080/"
        },
        "id": "4rUnSDr3ffOA",
        "outputId": "5789c3ed-7d58-4e75-f534-3b0acd885fbe"
      },
      "execution_count": 50,
      "outputs": [
        {
          "output_type": "execute_result",
          "data": {
            "text/plain": [
              "(784, 200)"
            ]
          },
          "metadata": {},
          "execution_count": 50
        }
      ]
    },
    {
      "cell_type": "code",
      "source": [
        "# function to do dimensionality reduction\n",
        "def dim_red(x_data,U = U):\n",
        "  red_x = x_data @ U\n",
        "  return red_x\n"
      ],
      "metadata": {
        "id": "If7Kf_fMgaDf"
      },
      "execution_count": 51,
      "outputs": []
    },
    {
      "cell_type": "code",
      "source": [
        "X_norm[0].shape,U.shape,(X_norm[0] @ U).shape"
      ],
      "metadata": {
        "colab": {
          "base_uri": "https://localhost:8080/"
        },
        "id": "WML5GrdbL3bd",
        "outputId": "c4294854-8e72-4f7d-ee9e-4358446cb627"
      },
      "execution_count": 52,
      "outputs": [
        {
          "output_type": "execute_result",
          "data": {
            "text/plain": [
              "((784,), (784, 200), (200,))"
            ]
          },
          "metadata": {},
          "execution_count": 52
        }
      ]
    },
    {
      "cell_type": "code",
      "source": [
        "# doing dimensionality reduction\n",
        "y_data = dim_red(X_norm)\n",
        "y_data.shape"
      ],
      "metadata": {
        "colab": {
          "base_uri": "https://localhost:8080/"
        },
        "id": "OuGK4uVxgcSF",
        "outputId": "c20a5458-048d-48ac-b080-a125d3cef015"
      },
      "execution_count": 53,
      "outputs": [
        {
          "output_type": "execute_result",
          "data": {
            "text/plain": [
              "(60000, 200)"
            ]
          },
          "metadata": {},
          "execution_count": 53
        }
      ]
    },
    {
      "cell_type": "code",
      "source": [
        "# Now we try to recover our original data with d = 200 components\n",
        "# For this we just multiply by U^T as U.U^T = I by definition and since y_data = X.U\n",
        "def reconstructed(y_data,U = U):\n",
        "  recon_x = y_data @ U.T\n",
        "  return recon_x\n"
      ],
      "metadata": {
        "id": "r7A3hYTeLkvm"
      },
      "execution_count": 54,
      "outputs": []
    },
    {
      "cell_type": "code",
      "source": [
        "recon_x = reconstructed(y_data)\n",
        "recon_x.shape"
      ],
      "metadata": {
        "colab": {
          "base_uri": "https://localhost:8080/"
        },
        "id": "6uIkpGZqMr6w",
        "outputId": "59807e1e-4bc1-4def-f2f7-f25f9e9f232c"
      },
      "execution_count": 55,
      "outputs": [
        {
          "output_type": "execute_result",
          "data": {
            "text/plain": [
              "(60000, 784)"
            ]
          },
          "metadata": {},
          "execution_count": 55
        }
      ]
    },
    {
      "cell_type": "code",
      "source": [
        "recon_x += X_bar"
      ],
      "metadata": {
        "id": "vOXqOugPQrxz"
      },
      "execution_count": 56,
      "outputs": []
    },
    {
      "cell_type": "code",
      "source": [
        "plt.figure(figsize = (10,8))\n",
        "plt.subplot(1,2,1)\n",
        "plt.title('Original Image')\n",
        "plt.imshow(np.reshape(X[0],(28,28)),cmap = 'viridis')\n",
        "\n",
        "plt.subplot(1,2,2)\n",
        "plt.title('Reconstructed Image with first 200 eigen value')\n",
        "plt.imshow(np.reshape(recon_x[0],(28,28)),cmap = 'viridis')"
      ],
      "metadata": {
        "colab": {
          "base_uri": "https://localhost:8080/",
          "height": 335
        },
        "id": "NKYnmGJMNbx4",
        "outputId": "c22a1d36-ffb0-4661-84e5-68693f5f003f"
      },
      "execution_count": 57,
      "outputs": [
        {
          "output_type": "execute_result",
          "data": {
            "text/plain": [
              "<matplotlib.image.AxesImage at 0x7f3ecf7d5250>"
            ]
          },
          "metadata": {},
          "execution_count": 57
        },
        {
          "output_type": "display_data",
          "data": {
            "image/png": "[encoded data removed]",
            "text/plain": [
              "<Figure size 720x576 with 2 Axes>"
            ]
          },
          "metadata": {
            "needs_background": "light"
          }
        }
      ]
    },
    {
      "cell_type": "code",
      "source": [
        "def reconstruct(d):\n",
        "  eig_vals1,eig_vecs1 = find_eigen(d)\n",
        "  U1 = eig_vecs1.T\n",
        "  x_data1 = X_norm @ U1\n",
        "  y_data1 = x_data1 @ U1.T\n",
        "  recon_x1 = y_data1 + X_bar\n",
        "  return recon_x1"
      ],
      "metadata": {
        "id": "1I7bKTya01T_"
      },
      "execution_count": 77,
      "outputs": []
    },
    {
      "cell_type": "code",
      "source": [
        "# Now seeing reconstructed image by taking 1st 100 and 1st 400 eigen vectors and full 784 eigrn values\n",
        "\n",
        "\"For d = 100\"\n",
        "recon_x1 = reconstruct(d = 100)\n",
        "# plt.imshow(np.reshape(recon_x1[0],(28,28)),cmap = 'viridis')\n",
        "\n",
        "\"For d = 400\"\n",
        "recon_x2 = reconstruct(d = 400)\n",
        "# plt.imshow(np.reshape(recon_x2[0],(28,28)),cmap = 'viridis')\n",
        "\n",
        "\"For d = 600\"\n",
        "recon_x3 = reconstruct(d = 600)\n",
        "# plt.imshow(np.reshape(recon_x2[0],(28,28)),cmap = 'viridis')\n",
        "\n",
        "\"For d = 784\"\n",
        "recon_x4 = reconstruct(d = 784)\n",
        "# plt.imshow(np.reshape(recon_x2[0],(28,28)),cmap = 'viridis')"
      ],
      "metadata": {
        "id": "5NO4OGJ2QUBm"
      },
      "execution_count": 78,
      "outputs": []
    },
    {
      "cell_type": "code",
      "source": [
        "# params = {\"ytick.color\" : \"b\",\n",
        "#           \"xtick.color\" : \"b\",\n",
        "#           \"axes.labelcolor\" : \"b\",\n",
        "#           \"axes.edgecolor\" : \"b\",\n",
        "#           \"text.color\" : \"b\"}\n",
        "# plt.rcParams.update(params)\n",
        "\n",
        "# Final results\n",
        "\n",
        "plt.figure(figsize = (10,20))\n",
        "plt.subplot(3,2,1)\n",
        "plt.title('Original Image')\n",
        "plt.imshow(np.reshape(X[0],(28,28)),cmap = 'viridis')\n",
        "\n",
        "plt.subplot(3,2,2)\n",
        "plt.title('Reconstructed Image with first 100 eigen value')\n",
        "plt.imshow(np.reshape(recon_x1[0],(28,28)),cmap = 'viridis')\n",
        "\n",
        "plt.subplot(3,2,3)\n",
        "plt.title('Reconstructed Image with first 200 eigen value')\n",
        "plt.imshow(np.reshape(recon_x[0],(28,28)),cmap = 'viridis')\n",
        "\n",
        "plt.subplot(3,2,4)\n",
        "plt.title('Reconstructed Image with first 400 eigen value')\n",
        "plt.imshow(np.reshape(recon_x2[0],(28,28)),cmap = 'viridis')\n",
        "\n",
        "plt.subplot(3,2,5)\n",
        "plt.title('Reconstructed Image with first 600 eigen value')\n",
        "plt.imshow(np.reshape(recon_x3[0],(28,28)),cmap = 'viridis')\n",
        "\n",
        "plt.subplot(3,2,6)\n",
        "plt.title('Reconstructed Image with all 784 eigen value')\n",
        "plt.imshow(np.reshape(recon_x4[0],(28,28)),cmap = 'viridis')"
      ],
      "metadata": {
        "colab": {
          "base_uri": "https://localhost:8080/",
          "height": 1000
        },
        "id": "RZonWFM0vE9b",
        "outputId": "7c15ef79-6179-486c-9606-d329422901e8"
      },
      "execution_count": 79,
      "outputs": [
        {
          "output_type": "execute_result",
          "data": {
            "text/plain": [
              "<matplotlib.image.AxesImage at 0x7f3ecdcaf150>"
            ]
          },
          "metadata": {},
          "execution_count": 79
        },
        {
          "output_type": "display_data",
          "data": {
            "image/png": "[encoded data removed]",
            "text/plain": [
              "<Figure size 720x1440 with 6 Axes>"
            ]
          },
          "metadata": {
            "needs_background": "light"
          }
        }
      ]
    },
    {
      "cell_type": "code",
      "source": [
        ""
      ],
      "metadata": {
        "id": "6toyhCyfyWK6"
      },
      "execution_count": null,
      "outputs": []
    }
  ]
}